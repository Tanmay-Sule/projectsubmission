{
  "metadata": {
    "language_info": {
      "codemirror_mode": {
        "name": "python",
        "version": 3
      },
      "file_extension": ".py",
      "mimetype": "text/x-python",
      "name": "python",
      "nbconvert_exporter": "python",
      "pygments_lexer": "ipython3",
      "version": "3.8"
    },
    "kernelspec": {
      "name": "python",
      "display_name": "Python (Pyodide)",
      "language": "python"
    }
  },
  "nbformat_minor": 4,
  "nbformat": 4,
  "cells": [
    {
      "cell_type": "markdown",
      "source": "# My Jupyter Notebook on IBM Watson Studio",
      "metadata": {}
    },
    {
      "cell_type": "markdown",
      "source": "**I am Tanmay Sule**\n\nCurrently I am a student and I be will an Entrepreneur.",
      "metadata": {}
    },
    {
      "cell_type": "markdown",
      "source": "*I want to persue Data Science because I want to improve the econmomy and living standards of people by understanding the living patterns and requirements of people*",
      "metadata": {}
    },
    {
      "cell_type": "markdown",
      "source": "### The code below is supposed to print a hello message to fellow learners",
      "metadata": {}
    },
    {
      "cell_type": "code",
      "source": "print(\"Hello Learners\") ",
      "metadata": {
        "trusted": true
      },
      "execution_count": 2,
      "outputs": [
        {
          "name": "stdout",
          "text": "Hello Learners\n",
          "output_type": "stream"
        }
      ]
    },
    {
      "cell_type": "markdown",
      "source": "External attachments:\n\nCoursera - https://in.coursera.org/\n\nIBM Cloud - https://www.ibm.com/in-en/cloud\n\n\n",
      "metadata": {}
    },
    {
      "cell_type": "code",
      "source": "",
      "metadata": {},
      "execution_count": null,
      "outputs": []
    }
  ]
}
